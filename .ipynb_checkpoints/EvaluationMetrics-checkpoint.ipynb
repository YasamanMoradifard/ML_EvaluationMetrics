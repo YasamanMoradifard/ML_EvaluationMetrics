{
 "cells": [
  {
   "cell_type": "markdown",
   "id": "f70eaf41",
   "metadata": {},
   "source": [
    "# Evaluation metrics"
   ]
  },
  {
   "cell_type": "markdown",
   "id": "ddc8f548",
   "metadata": {},
   "source": [
    "### Goal:\n",
    "In order to evaluate the performance of a DL or ML model and answering the the question of \"Do we need more optimization? is the model working good enough? Is it ready to implement and being used in real world applications?\" we need to evaluate the performance.\n",
    "Traditionally it occures by comparing the output of our Model with the available lables. How much do they differ?\n",
    "\n",
    "There are various methods for evaluation and each of them has a specific applicaiton. Although some of them are more famous and have more application, here I gathered all of them together. So, whenever you here the name of one, you will remember what it evaluates.\n",
    "\n",
    "Enjoy learning :)"
   ]
  },
  {
   "cell_type": "markdown",
   "id": "455216f1",
   "metadata": {},
   "source": [
    "### Syllabus:\n",
    "#### Confusion Matrix\n",
    "#### Accuracy\n",
    "#### Precision\n",
    "#### Recall\n",
    "#### F1-score\n",
    "#### Type I & Type II Error\n",
    "#### Sensitivity\n",
    "#### Specificity\n",
    "#### Area Under the Curve (AUC)\n",
    "#### ROC"
   ]
  },
  {
   "cell_type": "markdown",
   "id": "f82f7f1f",
   "metadata": {},
   "source": [
    "### 0- Required Libraries"
   ]
  },
  {
   "cell_type": "code",
   "execution_count": 2,
   "id": "6af1ef97",
   "metadata": {},
   "outputs": [],
   "source": [
    "import numpy as np\n",
    "import pandas as pd\n",
    "import matplotlib.pyplot as plt\n",
    "import seaborn as sns"
   ]
  },
  {
   "cell_type": "markdown",
   "id": "47c0a61b",
   "metadata": {},
   "source": [
    "### 0- Model execution"
   ]
  },
  {
   "cell_type": "code",
   "execution_count": 3,
   "id": "430ac3da",
   "metadata": {},
   "outputs": [],
   "source": [
    "################### Binomial Classification: Model 1 ###################\n",
    "# Importing the dataset\n",
    "dataset = pd.read_csv('Social_Network_Ads.csv')\n",
    "X1 = dataset.iloc[:, [2, 3]].values\n",
    "y1 = dataset.iloc[:, 4].values\n",
    "\n",
    "# Splitting the dataset into the Training set and Test set\n",
    "from sklearn.model_selection import train_test_split\n",
    "X_train1, X_test1, y_train1, y_test1 = train_test_split(X1, y1, test_size = 0.25, random_state = 0)\n",
    "\n",
    "# Feature Scaling\n",
    "from sklearn.preprocessing import StandardScaler\n",
    "sc = StandardScaler()\n",
    "X_train1 = sc.fit_transform(X_train1)\n",
    "X_test1 = sc.transform(X_test1)\n",
    "\n",
    "# Fitting Logistic Regression to the Training set\n",
    "from sklearn.linear_model import LogisticRegression\n",
    "classifier = LogisticRegression(random_state = 0)\n",
    "classifier.fit(X_train1, y_train1)\n",
    "\n",
    "# Predicting the Test set results\n",
    "y_pred1 = classifier.predict(X_test1)\n"
   ]
  },
  {
   "cell_type": "code",
   "execution_count": 4,
   "id": "a5b95792",
   "metadata": {},
   "outputs": [],
   "source": [
    "################### Multi-class classificaiton: Model 2 ###################\n",
    "# data:\n",
    "df=sns.load_dataset(\"iris\")\n",
    "\n",
    "# Spliting into features and label groups\n",
    "data = df.values\n",
    "X2 = data[:,0:4]\n",
    "Y2 = data[:,4]\n",
    "\n",
    "# Split the data to train and test sets\n",
    "from sklearn.model_selection import train_test_split\n",
    "X_train2, X_test2, y_train2, y_test2 = train_test_split(X2, Y2, test_size=0.2)\n",
    "\n",
    "# Support vector machine algorithm\n",
    "from sklearn.svm import SVC\n",
    "svm = SVC()\n",
    "svm.fit(X_train2, y_train2)\n",
    "\n",
    "# Predict from the test dataset\n",
    "y_pred2 = svm.predict(X_test2)"
   ]
  },
  {
   "cell_type": "markdown",
   "id": "ba41ba86",
   "metadata": {},
   "source": [
    "### 1- Confusion Matrix and its parameters:"
   ]
  },
  {
   "cell_type": "code",
   "execution_count": 5,
   "id": "9f0e413d",
   "metadata": {
    "scrolled": false
   },
   "outputs": [
    {
     "data": {
      "text/plain": [
       "<sklearn.metrics._plot.confusion_matrix.ConfusionMatrixDisplay at 0x7f9736dfb250>"
      ]
     },
     "execution_count": 5,
     "metadata": {},
     "output_type": "execute_result"
    },
    {
     "data": {
      "image/png": "[encoded data removed]",
      "text/plain": [
       "<Figure size 432x288 with 2 Axes>"
      ]
     },
     "metadata": {
      "needs_background": "light"
     },
     "output_type": "display_data"
    },
    {
     "data": {
      "image/png": "[encoded data removed]",
      "text/plain": [
       "<Figure size 432x288 with 2 Axes>"
      ]
     },
     "metadata": {
      "needs_background": "light"
     },
     "output_type": "display_data"
    }
   ],
   "source": [
    "########## Model 1: Binomial Classifier ##########\n",
    "from sklearn.metrics import confusion_matrix, ConfusionMatrixDisplay\n",
    "cm1 = confusion_matrix(y_test1, y_pred1)\n",
    "cm_dis1 = ConfusionMatrixDisplay(confusion_matrix = cm1 , display_labels = ['Yes', 'No'])\n",
    "cm_dis1.plot()\n",
    "\n",
    "########## Model 2: Multi-class Classifier ##########\n",
    "from sklearn.metrics import confusion_matrix, ConfusionMatrixDisplay\n",
    "cm2 = confusion_matrix(y_test2, y_pred2)\n",
    "cm_dis2 = ConfusionMatrixDisplay(confusion_matrix = cm2 , display_labels = ['Setosa', 'Versicolour', 'Virginica'])\n",
    "cm_dis2.plot()\n"
   ]
  },
  {
   "cell_type": "code",
   "execution_count": 6,
   "id": "48a71425",
   "metadata": {},
   "outputs": [
    {
     "name": "stdout",
     "output_type": "stream",
     "text": [
      "First Cnfusion Matrix Parameters; TP, FN, FP, TN =   65 3 8 24\n"
     ]
    }
   ],
   "source": [
    "# Confusion Matrix parameters:\n",
    "TP, FN, FP, TN = cm1.ravel()\n",
    "print (\"First Cnfusion Matrix Parameters; TP, FN, FP, TN =  \", TP, FN, FP, TN)\n"
   ]
  },
  {
   "cell_type": "code",
   "execution_count": 7,
   "id": "36633214",
   "metadata": {},
   "outputs": [
    {
     "name": "stdout",
     "output_type": "stream",
     "text": [
      "Setosa :  1.0 1.0 1.0 1.0 1.0 1.0 0.0 0.0\n",
      "Versicolour :  0.9 1.0 0.7857 0.88 0.7857 1.0 0.2143 0.0\n",
      "Virginica :  0.9 0.6667 1.0 0.8 1.0 0.875 0.0 0.125\n",
      "\n",
      "Second Cnfusion Matrix Overall Parameters; TP, FN, FP, TN =   27 3 3 57\n",
      "TP:  [10, 11, 6]\n",
      "TN:  [20, 16, 21]\n",
      "FP:  [0, 0, 3]\n",
      "FN:  [0, 3, 0]\n"
     ]
    }
   ],
   "source": [
    "##### Multiclass CM:\n",
    "TP = []\n",
    "TN = []\n",
    "FP = []\n",
    "FN = []\n",
    "labels = ['Setosa', 'Versicolour', 'Virginica']\n",
    "\n",
    "for i in range(cm2.shape[0]):\n",
    "    tp = cm2[i, i]; TP.append(tp)\n",
    "    fp = np.sum(cm2[i, :]) - cm2[i, i]; FP.append(fp)\n",
    "    fn = np.sum(cm2[:, i]) - cm2[i, i]; FN.append(fn)\n",
    "    tn = np.sum(cm2) +cm2[i, i] -np.sum(cm2[i, :]) -np.sum(cm2[:, i]); TN.append(tn)\n",
    "    Accuracy = (tp+tn)/np.sum(cm2).sum()\n",
    "    Precision = tp/(tp+fp)\n",
    "    Recall = tp/(tp+fn)\n",
    "    F1_score = (2*Precision*Recall)/(Precision + Recall)\n",
    "    Sensitivity = tp/(tp+fn); Alfa = 1 - Sensitivity\n",
    "    Specificity = tn/(tn+fp); Beta = 1 - Specificity\n",
    "    print(labels[i],\": \", Accuracy.round(4), Precision.round(4), Recall.round(4), F1_score.round(4), \n",
    "          Sensitivity.round(4), Specificity.round(4), Alfa.round(4), Beta.round(4))\n",
    "\n",
    "# Step 3: Sum the TP, TN, FP, and FN across all classes\n",
    "overall_TP = np.sum(TP)\n",
    "overall_TN = np.sum(TN)\n",
    "overall_FP = np.sum(FP)\n",
    "overall_FN = np.sum(FN)\n",
    "\n",
    "print (\"\\nSecond Cnfusion Matrix Overall Parameters; TP, FN, FP, TN =  \", overall_TP, overall_FN, overall_FP, overall_TN)\n",
    "print(\"TP: \", TP)\n",
    "print(\"TN: \", TN)\n",
    "print(\"FP: \", FP)\n",
    "print(\"FN: \", FN)\n"
   ]
  },
  {
   "cell_type": "markdown",
   "id": "bf61f5fb",
   "metadata": {},
   "source": [
    "#### Using Sklearn library to print everything automatically:\n",
    "saved as dictionary and converted as a data frame.\n",
    "Accuracy: overall acc"
   ]
  },
  {
   "cell_type": "code",
   "execution_count": 8,
   "id": "918b2a3c",
   "metadata": {},
   "outputs": [
    {
     "data": {
      "text/html": [
       "<div>\n",
       "<style scoped>\n",
       "    .dataframe tbody tr th:only-of-type {\n",
       "        vertical-align: middle;\n",
       "    }\n",
       "\n",
       "    .dataframe tbody tr th {\n",
       "        vertical-align: top;\n",
       "    }\n",
       "\n",
       "    .dataframe thead th {\n",
       "        text-align: right;\n",
       "    }\n",
       "</style>\n",
       "<table border=\"1\" class=\"dataframe\">\n",
       "  <thead>\n",
       "    <tr style=\"text-align: right;\">\n",
       "      <th></th>\n",
       "      <th>setosa</th>\n",
       "      <th>versicolor</th>\n",
       "      <th>virginica</th>\n",
       "      <th>accuracy</th>\n",
       "      <th>macro avg</th>\n",
       "      <th>weighted avg</th>\n",
       "    </tr>\n",
       "  </thead>\n",
       "  <tbody>\n",
       "    <tr>\n",
       "      <th>precision</th>\n",
       "      <td>1.0</td>\n",
       "      <td>0.785714</td>\n",
       "      <td>1.000000</td>\n",
       "      <td>0.9</td>\n",
       "      <td>0.928571</td>\n",
       "      <td>0.921429</td>\n",
       "    </tr>\n",
       "    <tr>\n",
       "      <th>recall</th>\n",
       "      <td>1.0</td>\n",
       "      <td>1.000000</td>\n",
       "      <td>0.666667</td>\n",
       "      <td>0.9</td>\n",
       "      <td>0.888889</td>\n",
       "      <td>0.900000</td>\n",
       "    </tr>\n",
       "    <tr>\n",
       "      <th>f1-score</th>\n",
       "      <td>1.0</td>\n",
       "      <td>0.880000</td>\n",
       "      <td>0.800000</td>\n",
       "      <td>0.9</td>\n",
       "      <td>0.893333</td>\n",
       "      <td>0.896000</td>\n",
       "    </tr>\n",
       "    <tr>\n",
       "      <th>support</th>\n",
       "      <td>10.0</td>\n",
       "      <td>11.000000</td>\n",
       "      <td>9.000000</td>\n",
       "      <td>0.9</td>\n",
       "      <td>30.000000</td>\n",
       "      <td>30.000000</td>\n",
       "    </tr>\n",
       "  </tbody>\n",
       "</table>\n",
       "</div>"
      ],
      "text/plain": [
       "           setosa  versicolor  virginica  accuracy  macro avg  weighted avg\n",
       "precision     1.0    0.785714   1.000000       0.9   0.928571      0.921429\n",
       "recall        1.0    1.000000   0.666667       0.9   0.888889      0.900000\n",
       "f1-score      1.0    0.880000   0.800000       0.9   0.893333      0.896000\n",
       "support      10.0   11.000000   9.000000       0.9  30.000000     30.000000"
      ]
     },
     "execution_count": 8,
     "metadata": {},
     "output_type": "execute_result"
    }
   ],
   "source": [
    "from sklearn.metrics import classification_report\n",
    "Report = classification_report(y_test2, y_pred2, output_dict = True)\n",
    "pd.DataFrame(Report)"
   ]
  },
  {
   "cell_type": "markdown",
   "id": "10fd72ed",
   "metadata": {},
   "source": [
    "### 2- AUC & ROC"
   ]
  },
  {
   "cell_type": "code",
   "execution_count": 9,
   "id": "fccae892",
   "metadata": {},
   "outputs": [],
   "source": [
    "from sklearn.metrics import roc_curve, auc"
   ]
  },
  {
   "cell_type": "code",
   "execution_count": 10,
   "id": "4e22a555",
   "metadata": {},
   "outputs": [
    {
     "data": {
      "image/png": "[encoded data removed]",
      "text/plain": [
       "<Figure size 432x288 with 1 Axes>"
      ]
     },
     "metadata": {
      "needs_background": "light"
     },
     "output_type": "display_data"
    }
   ],
   "source": [
    "###################################### 1st Classification ###############################################\n",
    "classifier_fpr, classifier_tpr, threshold = roc_curve(y_test1, y_pred1)\n",
    "AUC_classifier = auc(classifier_fpr, classifier_tpr)\n",
    "\n",
    "plt.plot(classifier_fpr, classifier_tpr, marker = '.', label = 'AUC = %0.3f'% AUC_classifier)\n",
    "plt.xlabel ('False Positive Rate')\n",
    "plt.ylabel ('True Positive Rate')\n",
    "\n",
    "plt.legend()\n",
    "plt.show()"
   ]
  },
  {
   "cell_type": "code",
   "execution_count": 25,
   "id": "e82a0de1",
   "metadata": {},
   "outputs": [
    {
     "data": {
      "image/png": "[encoded data removed]",
      "text/plain": [
       "<Figure size 432x288 with 1 Axes>"
      ]
     },
     "metadata": {
      "needs_background": "light"
     },
     "output_type": "display_data"
    }
   ],
   "source": [
    "###################################### 2st Classification ###############################################\n",
    "from sklearn.preprocessing import LabelBinarizer\n",
    "from sklearn.metrics import RocCurveDisplay\n",
    "\n",
    "Label_binary = LabelBinarizer().fit(y_train2)\n",
    "y_onehot_test = Label_binary.transform(y_test2)\n",
    "y_onehot_pred2 =Label_binary.transform(y_pred2) \n",
    "#y_onehot_test.shape  # (n_samples, n_classes)\n",
    "\n",
    "\n",
    "class_of_interest = \"virginica\"\n",
    "class_id = np.flatnonzero(Label_binary.classes_ == class_of_interest)[0]\n",
    "#class_id\n",
    "\n",
    "RocCurveDisplay.from_predictions(\n",
    "    y_onehot_test[:, class_id],\n",
    "    y_onehot_pred2[:, class_id],\n",
    "    name=f\"{class_of_interest} vs the rest\",\n",
    "    color=\"darkorange\",\n",
    ")\n",
    "plt.axis(\"square\")\n",
    "plt.xlabel(\"False Positive Rate\")\n",
    "plt.ylabel(\"True Positive Rate\")\n",
    "plt.title(\"One-vs-Rest ROC curves:\\nVirginica vs (Setosa & Versicolor)\")\n",
    "plt.legend()\n",
    "plt.show()"
   ]
  }
 ],
 "metadata": {
  "kernelspec": {
   "display_name": "Python 3 (ipykernel)",
   "language": "python",
   "name": "python3"
  },
  "language_info": {
   "codemirror_mode": {
    "name": "ipython",
    "version": 3
   },
   "file_extension": ".py",
   "mimetype": "text/x-python",
   "name": "python",
   "nbconvert_exporter": "python",
   "pygments_lexer": "ipython3",
   "version": "3.7.6"
  }
 },
 "nbformat": 4,
 "nbformat_minor": 5
}
