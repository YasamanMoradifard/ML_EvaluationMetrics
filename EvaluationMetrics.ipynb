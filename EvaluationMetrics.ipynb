{
 "cells": [
  {
   "cell_type": "markdown",
   "id": "597a8253",
   "metadata": {},
   "source": [
    "# Evaluation metrics"
   ]
  },
  {
   "cell_type": "markdown",
   "id": "f838e73b",
   "metadata": {},
   "source": [
    "### Goal:\n",
    "In order to evaluate the performance of a DL or ML model and answering the the question of \"Do we need more optimization? is the model working good enough? Is it ready to implement and being used in real world applications?\" we need to evaluate the performance.\n",
    "Traditionally it occures by comparing the output of our Model with the available lables. How much do they differ?\n",
    "\n",
    "There are various methods for evaluation and each of them has a specific applicaiton. Although some of them are more famous and have more application, here I gathered all of them together. So, whenever you here the name of one, you will remember what it evaluates.\n",
    "\n",
    "Enjoy learning :)"
   ]
  },
  {
   "cell_type": "markdown",
   "id": "c2f7036e",
   "metadata": {},
   "source": [
    "### Syllabus:\n",
    "#### Confusion Matrix\n",
    "#### Accuracy\n",
    "#### Precision/ Recall\n",
    "#### Area Under the Curve (AUC)\n",
    "#### ROC\n",
    "#### Sensitivity\n",
    "#### Specificity\n",
    "#### Type I, Type II, & Type III error"
   ]
  },
  {
   "cell_type": "code",
   "execution_count": null,
   "id": "49125c35",
   "metadata": {},
   "outputs": [],
   "source": []
  }
 ],
 "metadata": {
  "kernelspec": {
   "display_name": "Python 3 (ipykernel)",
   "language": "python",
   "name": "python3"
  },
  "language_info": {
   "codemirror_mode": {
    "name": "ipython",
    "version": 3
   },
   "file_extension": ".py",
   "mimetype": "text/x-python",
   "name": "python",
   "nbconvert_exporter": "python",
   "pygments_lexer": "ipython3",
   "version": "3.7.6"
  }
 },
 "nbformat": 4,
 "nbformat_minor": 5
}
